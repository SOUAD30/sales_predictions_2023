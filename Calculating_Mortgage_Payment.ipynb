{
  "nbformat": 4,
  "nbformat_minor": 0,
  "metadata": {
    "anaconda-cloud": {},
    "celltoolbar": "Slideshow",
    "kernelspec": {
      "display_name": "Python 3",
      "language": "python",
      "name": "python3"
    },
    "language_info": {
      "codemirror_mode": {
        "name": "ipython",
        "version": 3
      },
      "file_extension": ".py",
      "mimetype": "text/x-python",
      "name": "python",
      "nbconvert_exporter": "python",
      "pygments_lexer": "ipython3",
      "version": "3.7.6"
    },
    "colab": {
      "provenance": [],
      "include_colab_link": true
    }
  },
  "cells": [
    {
      "cell_type": "markdown",
      "metadata": {
        "id": "view-in-github",
        "colab_type": "text"
      },
      "source": [
        "<a href=\"https://colab.research.google.com/github/souadkhailia/sales_predictions_2023/blob/main/Calculating_Mortgage_Payment.ipynb\" target=\"_parent\"><img src=\"https://colab.research.google.com/assets/colab-badge.svg\" alt=\"Open In Colab\"/></a>"
      ]
    },
    {
      "cell_type": "markdown",
      "metadata": {
        "id": "50HqtNLu_xBc"
      },
      "source": [
        "<h2>Mortgage Payment</h2>\n",
        "In the past when there were only fixed-rate mortgages with no points, the calculation for how much a mortgage payment would be per month was usually relatively simple. A person could borrow money from a financial institution and make a fixed sized payment each month for the term of the mortgage which often ranged from 15 to 30 years. At the end of the term, the bank would have been paid back for the loan and the person would own the house free and clear.  You can calculate the monthly payment for a fixed rate mortgage with no points using the Equated Monthly Installment formula (EMI) below.\n",
        "\n",
        "![](https://s3.amazonaws.com/General_V88/boomyeah2015/codingdojo/curriculum/content/chapter/EMI_formula.png)\n",
        "\n",
        "How much would the monthly payment be for a 30 year mortgage (30 * 12 = 360 month term) with a 400,000 dollar principal and a 3% APR (interest rate with fees included)?"
      ]
    },
    {
      "cell_type": "code",
      "metadata": {
        "id": "evA6b27p_xBd",
        "colab": {
          "base_uri": "https://localhost:8080/"
        },
        "outputId": "cc1f4747-7faa-46a1-98a3-4fe9bbbf109f"
      },
      "source": [
        "P = 400000\n",
        "r = 0.03 / 12\n",
        "n = 30 * 12\n",
        "numerator = (r *((1 + r)**(n)) )\n",
        "denominator = ((1 + r)**(n)) - 1\n",
        "emi = P * (numerator / denominator)\n",
        "emi"
      ],
      "execution_count": null,
      "outputs": [
        {
          "output_type": "execute_result",
          "data": {
            "text/plain": [
              "1686.4161349178237"
            ]
          },
          "metadata": {},
          "execution_count": 1
        }
      ]
    },
    {
      "cell_type": "code",
      "metadata": {
        "id": "DTIM5N88kaqQ"
      },
      "source": [
        "P = 4000000\n",
        "r = 0.03"
      ],
      "execution_count": null,
      "outputs": []
    },
    {
      "cell_type": "code",
      "metadata": {
        "id": "pD8YOlTwlh6l",
        "outputId": "2c1d1480-3480-4964-c76b-e706cb399591",
        "colab": {
          "base_uri": "https://localhost:8080/"
        }
      },
      "source": [
        "def emi(P, r, n):\n",
        "  numerator = (r *((1 + r)**(n)) )\n",
        "  denominator = ((1 + r)**(n)) - 1\n",
        "  emi = P * (numerator/denominator)\n",
        "  return(emi)\n",
        "\n",
        "emi(400000, 0.03/12, 30*12)\n"
      ],
      "execution_count": null,
      "outputs": [
        {
          "output_type": "execute_result",
          "data": {
            "text/plain": [
              "1686.4161349178237"
            ]
          },
          "metadata": {},
          "execution_count": 4
        }
      ]
    }
  ]
}